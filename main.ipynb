{
 "cells": [
  {
   "cell_type": "markdown",
   "metadata": {},
   "source": []
  },
  {
   "cell_type": "markdown",
   "metadata": {},
   "source": [
    "# Table of Contents\n",
    "\n",
    "## 1. Importing Libraries  \n",
    "## 2. Adjusting Row Column Settings  \n",
    "## 3. Text Preprocessing  \n",
    "### 3.1 Normalizing Case Folding  \n",
    "### 3.2 Punctuations  \n",
    "### 3.3 Numbers  \n",
    "### 3.4 Stopwords  \n",
    "### 3.5 Rarewords  \n",
    "### 3.6 Tokenization  \n",
    "### 3.7 Lemmatization  \n",
    "\n",
    "## 4. Text Visualization  \n",
    "### 4.1 Calculation of Term Frequencies  \n",
    "### 4.2 Barplot  \n",
    "### 4.3 Word Cloud  \n",
    "### 4.4 Word Cloud by Templates  \n",
    "\n",
    "## 5. Sentiment Analysis  \n",
    "## 6. Modelling  \n",
    "### 6.1 Logistic Regression  \n",
    "### 6.2 Random Forests\n"
   ]
  },
  {
   "cell_type": "markdown",
   "metadata": {},
   "source": [
    "### 1 | Importing Libraries"
   ]
  },
  {
   "cell_type": "code",
   "execution_count": 23,
   "metadata": {},
   "outputs": [],
   "source": [
    "from warnings import filterwarnings\n",
    "import matplotlib.pyplot as plt\n",
    "import numpy as np\n",
    "import pandas as pd\n",
    "import nltk\n",
    "from PIL import Image\n",
    "from nltk.corpus import stopwords\n",
    "from nltk.sentiment import SentimentIntensityAnalyzer\n",
    "from sklearn.feature_extraction.text import CountVectorizer\n",
    "from sklearn.feature_extraction.text import TfidfVectorizer\n",
    "from sklearn.ensemble import RandomForestClassifier\n",
    "from sklearn.linear_model import LogisticRegression\n",
    "from sklearn.model_selection import cross_val_score, GridSearchCV, cross_validate, train_test_split\n",
    "from sklearn.metrics import classification_report\n",
    "from sklearn.preprocessing import LabelEncoder\n",
    "from textblob import Word, TextBlob\n",
    "from wordcloud import WordCloud"
   ]
  },
  {
   "cell_type": "markdown",
   "metadata": {},
   "source": [
    "### 2 | Adjusting Row Column Settings"
   ]
  },
  {
   "cell_type": "code",
   "execution_count": 24,
   "metadata": {},
   "outputs": [],
   "source": [
    "filterwarnings('ignore')\n",
    "pd.set_option('display.max_columns', None)\n",
    "pd.set_option('display.width', 200)\n",
    "pd.set_option('display.float_format', lambda x: '%.2f' % x)"
   ]
  },
  {
   "cell_type": "markdown",
   "metadata": {},
   "source": [
    "#### 3 | Text Preprocessing\n"
   ]
  },
  {
   "cell_type": "code",
   "execution_count": 25,
   "metadata": {},
   "outputs": [],
   "source": [
    "df = pd.read_csv(\"duplicates_output\\duplicates_Apple_iPad_Mini_3_MGYE2LL_A_NEWEST_VERSION__16GB__Wi-Fi__Gold___Certified_Refurbished_.csv\")\n"
   ]
  },
  {
   "cell_type": "code",
   "execution_count": 26,
   "metadata": {},
   "outputs": [
    {
     "data": {
      "text/html": [
       "<div>\n",
       "<style scoped>\n",
       "    .dataframe tbody tr th:only-of-type {\n",
       "        vertical-align: middle;\n",
       "    }\n",
       "\n",
       "    .dataframe tbody tr th {\n",
       "        vertical-align: top;\n",
       "    }\n",
       "\n",
       "    .dataframe thead th {\n",
       "        text-align: right;\n",
       "    }\n",
       "</style>\n",
       "<table border=\"1\" class=\"dataframe\">\n",
       "  <thead>\n",
       "    <tr style=\"text-align: right;\">\n",
       "      <th></th>\n",
       "      <th>Product Name</th>\n",
       "      <th>Brand Name</th>\n",
       "      <th>Price</th>\n",
       "      <th>Rating</th>\n",
       "      <th>Reviews</th>\n",
       "      <th>Review Votes</th>\n",
       "    </tr>\n",
       "  </thead>\n",
       "  <tbody>\n",
       "    <tr>\n",
       "      <th>0</th>\n",
       "      <td>Apple iPad Mini 3 MGYE2LL/A NEWEST VERSION (16...</td>\n",
       "      <td>NaN</td>\n",
       "      <td>259.99</td>\n",
       "      <td>5</td>\n",
       "      <td>The IPad mini 3 was in perfect shape aND works...</td>\n",
       "      <td>5.00</td>\n",
       "    </tr>\n",
       "    <tr>\n",
       "      <th>1</th>\n",
       "      <td>Apple iPad Mini 3 MGYE2LL/A NEWEST VERSION (16...</td>\n",
       "      <td>NaN</td>\n",
       "      <td>259.99</td>\n",
       "      <td>5</td>\n",
       "      <td>Really good, new and cheap,</td>\n",
       "      <td>1.00</td>\n",
       "    </tr>\n",
       "    <tr>\n",
       "      <th>2</th>\n",
       "      <td>Apple iPad Mini 3 MGYE2LL/A NEWEST VERSION (16...</td>\n",
       "      <td>NaN</td>\n",
       "      <td>259.99</td>\n",
       "      <td>5</td>\n",
       "      <td>If U don't have an iPad, U don't have an iPad ...</td>\n",
       "      <td>10.00</td>\n",
       "    </tr>\n",
       "    <tr>\n",
       "      <th>3</th>\n",
       "      <td>Apple iPad Mini 3 MGYE2LL/A NEWEST VERSION (16...</td>\n",
       "      <td>NaN</td>\n",
       "      <td>259.99</td>\n",
       "      <td>5</td>\n",
       "      <td>I bought this for my sons 9th birthday, and he...</td>\n",
       "      <td>3.00</td>\n",
       "    </tr>\n",
       "    <tr>\n",
       "      <th>4</th>\n",
       "      <td>Apple iPad Mini 3 MGYE2LL/A NEWEST VERSION (16...</td>\n",
       "      <td>NaN</td>\n",
       "      <td>259.99</td>\n",
       "      <td>5</td>\n",
       "      <td>Delivered as promised</td>\n",
       "      <td>1.00</td>\n",
       "    </tr>\n",
       "  </tbody>\n",
       "</table>\n",
       "</div>"
      ],
      "text/plain": [
       "                                        Product Name  Brand Name  Price  Rating                                            Reviews  Review Votes\n",
       "0  Apple iPad Mini 3 MGYE2LL/A NEWEST VERSION (16...         NaN 259.99       5  The IPad mini 3 was in perfect shape aND works...          5.00\n",
       "1  Apple iPad Mini 3 MGYE2LL/A NEWEST VERSION (16...         NaN 259.99       5                        Really good, new and cheap,          1.00\n",
       "2  Apple iPad Mini 3 MGYE2LL/A NEWEST VERSION (16...         NaN 259.99       5  If U don't have an iPad, U don't have an iPad ...         10.00\n",
       "3  Apple iPad Mini 3 MGYE2LL/A NEWEST VERSION (16...         NaN 259.99       5  I bought this for my sons 9th birthday, and he...          3.00\n",
       "4  Apple iPad Mini 3 MGYE2LL/A NEWEST VERSION (16...         NaN 259.99       5                              Delivered as promised          1.00"
      ]
     },
     "execution_count": 26,
     "metadata": {},
     "output_type": "execute_result"
    }
   ],
   "source": [
    "df.head()"
   ]
  },
  {
   "cell_type": "markdown",
   "metadata": {},
   "source": [
    " #### 3.1. | Normalizing Case Folding\n",
    "\n",
    " In the first step of our NLP project, we converted the comments in the 'Review' column to lowercase. This standardizes the data into a uniform format, eliminating inconsistencies that might arise from differences in case sensitivity during the text processing phase."
   ]
  },
  {
   "cell_type": "code",
   "execution_count": 27,
   "metadata": {},
   "outputs": [],
   "source": [
    "df['Reviews'] = df['Reviews'].str.lower()\n"
   ]
  },
  {
   "cell_type": "code",
   "execution_count": 28,
   "metadata": {},
   "outputs": [
    {
     "data": {
      "text/plain": [
       "0     the ipad mini 3 was in perfect shape and works...\n",
       "1                           really good, new and cheap,\n",
       "2     if u don't have an ipad, u don't have an ipad ...\n",
       "3     i bought this for my sons 9th birthday, and he...\n",
       "4                                 delivered as promised\n",
       "                            ...                        \n",
       "94    the ipad arrived and i figured it would have s...\n",
       "95    appeared to be as good as new - no scratches, ...\n",
       "96    i haven't had the chance to utilize this ipad ...\n",
       "97    this ipad is great!! my son earned this over t...\n",
       "98                                            excellent\n",
       "Name: Reviews, Length: 99, dtype: object"
      ]
     },
     "execution_count": 28,
     "metadata": {},
     "output_type": "execute_result"
    }
   ],
   "source": [
    "df[\"Reviews\"]\n"
   ]
  },
  {
   "cell_type": "markdown",
   "metadata": {},
   "source": [
    "#### 3.2 | Punctuations\n",
    "\n",
    "In this step, we removed punctuation marks from the comments in the 'Review' column. This process aims to enhance the efficiency of our language processing tasks by making our text data cleaner and more suitable for analysis."
   ]
  },
  {
   "cell_type": "code",
   "execution_count": 29,
   "metadata": {},
   "outputs": [],
   "source": [
    "df['Reviews'] = df['Reviews'].str.replace('[^\\w\\s]', '')\n"
   ]
  },
  {
   "cell_type": "code",
   "execution_count": 30,
   "metadata": {},
   "outputs": [
    {
     "data": {
      "text/plain": [
       "0     the ipad mini 3 was in perfect shape and works...\n",
       "1                           really good, new and cheap,\n",
       "2     if u don't have an ipad, u don't have an ipad ...\n",
       "3     i bought this for my sons 9th birthday, and he...\n",
       "4                                 delivered as promised\n",
       "                            ...                        \n",
       "94    the ipad arrived and i figured it would have s...\n",
       "95    appeared to be as good as new - no scratches, ...\n",
       "96    i haven't had the chance to utilize this ipad ...\n",
       "97    this ipad is great!! my son earned this over t...\n",
       "98                                            excellent\n",
       "Name: Reviews, Length: 99, dtype: object"
      ]
     },
     "execution_count": 30,
     "metadata": {},
     "output_type": "execute_result"
    }
   ],
   "source": [
    "df['Reviews']"
   ]
  },
  {
   "cell_type": "markdown",
   "metadata": {},
   "source": [
    "#### 3.3. | Numbers\n",
    "In this step, we removed numerical characters from the comments in the 'Review' column. By eliminating numbers from the text, this process enables us to focus more on our language processing and text analysis tasks. Consequently, we can concentrate solely on the textual content, allowing for cleaner and more meaningful data analysis."
   ]
  },
  {
   "cell_type": "code",
   "execution_count": 31,
   "metadata": {},
   "outputs": [
    {
     "data": {
      "text/plain": [
       "0     the ipad mini 3 was in perfect shape and works...\n",
       "1                           really good, new and cheap,\n",
       "2     if u don't have an ipad, u don't have an ipad ...\n",
       "3     i bought this for my sons 9th birthday, and he...\n",
       "4                                 delivered as promised\n",
       "                            ...                        \n",
       "94    the ipad arrived and i figured it would have s...\n",
       "95    appeared to be as good as new - no scratches, ...\n",
       "96    i haven't had the chance to utilize this ipad ...\n",
       "97    this ipad is great!! my son earned this over t...\n",
       "98                                            excellent\n",
       "Name: Reviews, Length: 99, dtype: object"
      ]
     },
     "execution_count": 31,
     "metadata": {},
     "output_type": "execute_result"
    }
   ],
   "source": [
    "df['Reviews'] = df['Reviews'].str.replace('\\d', '')\n",
    "df['Reviews']"
   ]
  },
  {
   "cell_type": "markdown",
   "metadata": {},
   "source": [
    "#### 3.4 | Stopwords\n",
    "In this section, by removing frequently repeated and often meaningless words (such as 'the', 'is', 'in') from our texts, we can focus our analysis on more meaningful words. This allows us to better understand the essence of the comments and make our NLP processes more efficient."
   ]
  },
  {
   "cell_type": "code",
   "execution_count": 32,
   "metadata": {},
   "outputs": [
    {
     "name": "stderr",
     "output_type": "stream",
     "text": [
      "[nltk_data] Downloading package stopwords to\n",
      "[nltk_data]     C:\\Users\\yassi\\AppData\\Roaming\\nltk_data...\n",
      "[nltk_data]   Package stopwords is already up-to-date!\n"
     ]
    },
    {
     "data": {
      "text/plain": [
       "True"
      ]
     },
     "execution_count": 32,
     "metadata": {},
     "output_type": "execute_result"
    }
   ],
   "source": [
    "nltk.download('stopwords')\n"
   ]
  },
  {
   "cell_type": "code",
   "execution_count": 33,
   "metadata": {},
   "outputs": [],
   "source": [
    "sw = stopwords.words('english')\n"
   ]
  },
  {
   "cell_type": "code",
   "execution_count": 34,
   "metadata": {},
   "outputs": [
    {
     "data": {
      "text/plain": [
       "0     ipad mini 3 perfect shape works flawlessly. gr...\n",
       "1                               really good, new cheap,\n",
       "2     u ipad, u ipad ;)i recommend getting 64gb... u...\n",
       "3            bought sons 9th birthday, really likes it!\n",
       "4                                    delivered promised\n",
       "                            ...                        \n",
       "94    ipad arrived figured would cosmetic issues din...\n",
       "95    appeared good new - scratches, dents, etc. cab...\n",
       "96    chance utilize ipad intended purpose yet; howe...\n",
       "97    ipad great!! son earned summer working. arrive...\n",
       "98                                            excellent\n",
       "Name: Reviews, Length: 99, dtype: object"
      ]
     },
     "execution_count": 34,
     "metadata": {},
     "output_type": "execute_result"
    }
   ],
   "source": [
    "df['Reviews'] = df['Reviews'].apply(lambda x: \" \".join(x for x in str(x).split() if x not in sw))\n",
    "df['Reviews']"
   ]
  },
  {
   "cell_type": "code",
   "execution_count": 35,
   "metadata": {},
   "outputs": [
    {
     "data": {
      "text/plain": [
       "ipad        35\n",
       "mini        19\n",
       "great       17\n",
       "love        15\n",
       "like        14\n",
       "            ..\n",
       "yet;         1\n",
       "purpose      1\n",
       "intended     1\n",
       "utilize      1\n",
       "ipad!!       1\n",
       "Name: count, Length: 649, dtype: int64"
      ]
     },
     "execution_count": 35,
     "metadata": {},
     "output_type": "execute_result"
    }
   ],
   "source": [
    "pd.Series(' '.join(df['Reviews']).split()).value_counts()\n"
   ]
  }
 ],
 "metadata": {
  "kernelspec": {
   "display_name": "Python 3",
   "language": "python",
   "name": "python3"
  },
  "language_info": {
   "codemirror_mode": {
    "name": "ipython",
    "version": 3
   },
   "file_extension": ".py",
   "mimetype": "text/x-python",
   "name": "python",
   "nbconvert_exporter": "python",
   "pygments_lexer": "ipython3",
   "version": "3.13.2"
  }
 },
 "nbformat": 4,
 "nbformat_minor": 2
}
